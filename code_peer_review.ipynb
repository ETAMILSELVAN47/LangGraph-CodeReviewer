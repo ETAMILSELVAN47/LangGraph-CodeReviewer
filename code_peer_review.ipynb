{
 "cells": [
  {
   "cell_type": "code",
   "execution_count": 1,
   "metadata": {},
   "outputs": [
    {
     "data": {
      "text/plain": [
       "'Hello! 👋\\n\\nHow can I help you today? 😄\\n'"
      ]
     },
     "execution_count": 1,
     "metadata": {},
     "output_type": "execute_result"
    }
   ],
   "source": [
    "import os\n",
    "from dotenv import load_dotenv\n",
    "load_dotenv()\n",
    "\n",
    "os.environ['GROQ_API_KEY']=os.getenv(key='GROQ_API_KEY')\n",
    "\n",
    "from langchain_groq import ChatGroq\n",
    "llm=ChatGroq(model='gemma2-9b-it')\n",
    "llm.invoke('Hello').content"
   ]
  },
  {
   "cell_type": "code",
   "execution_count": 2,
   "metadata": {},
   "outputs": [],
   "source": [
    "from pydantic import BaseModel,Field\n",
    "from typing import Literal\n",
    "\n",
    "class Reviewer(BaseModel):\n",
    "    status:Literal['Approved','Rejected + Feedback']\n",
    "    feedback:str"
   ]
  },
  {
   "cell_type": "code",
   "execution_count": 3,
   "metadata": {},
   "outputs": [],
   "source": [
    "from typing_extensions import TypedDict\n",
    "\n",
    "class State(TypedDict):\n",
    "    topic:str \n",
    "    source_code:str\n",
    "    code_review_status:str \n",
    "    test_cases:str \n",
    "    test_case_review_status:str \n",
    "    manager_approval_status:str\n",
    "    feedback:str\n",
    "    final_code_version:str\n",
    "    deployment_status:str"
   ]
  },
  {
   "cell_type": "code",
   "execution_count": 4,
   "metadata": {},
   "outputs": [],
   "source": [
    "from langchain_core.messages import SystemMessage,HumanMessage,AIMessage\n",
    "\n",
    "\n",
    "def code_writer(state: State):\n",
    "    '''Writes code based on the user input'''\n",
    "    \n",
    "    topic = state.get('topic')\n",
    "    feedback = state.get('feedback')\n",
    "    \n",
    "    if feedback:\n",
    "        response = llm.invoke([\n",
    "            SystemMessage(content=f'You are an expert in writing code in all programming languages. Develop a code based on the user input and take into account the feedback: {feedback}.'),\n",
    "            HumanMessage(content=f\"Here is the user input: {topic}\")\n",
    "        ])\n",
    "    else:\n",
    "        response = llm.invoke([\n",
    "            SystemMessage(content='You are an expert in writing code in all programming languages. Develop a code based on the user input.'),\n",
    "            HumanMessage(content=f\"Here is the user input: {topic}\")\n",
    "        ])\n",
    "\n",
    "    return {'source_code': response.content}\n",
    "\n",
    "\n",
    "def code_reviewer(state: State):\n",
    "    \"\"\"Reviews the code and provides feedback.\"\"\"\n",
    "    \n",
    "    source_code = state.get('source_code')\n",
    "    \n",
    "    reviewer = llm.with_structured_output(Reviewer)\n",
    "    \n",
    "    if source_code:\n",
    "        response = reviewer.invoke([\n",
    "                SystemMessage(content='You are an expert in reviewing code in all programming languages. Review the following code and provide approval and feedback.'),\n",
    "                HumanMessage(content=f\"Here is the code:\\n\\n{source_code}\")       \n",
    "               ])\n",
    "\n",
    "        return {\n",
    "                 'code_review_status': response.status,\n",
    "                 'feedback': response.feedback\n",
    "               }\n",
    "    \n",
    "def test_case_generator(state: State):\n",
    "    \"\"\"Generates test cases for the given code and user input.\"\"\"\n",
    "    \n",
    "    user_input = state.get('topic')\n",
    "    source_code = state.get('source_code')    \n",
    "\n",
    "    if source_code and user_input:\n",
    "        response = llm.invoke([\n",
    "                             SystemMessage(content=\"You are an expert in generating test cases for all programming languages. Generate test cases for the given code and user input.\"),\n",
    "                             HumanMessage(content=f\"Here is the code:\\n\\n{source_code}\\n\\nUser Input: {user_input}\")\n",
    "                              ])\n",
    " \n",
    "    return {'test_cases': response.content}\n",
    "\n",
    "def test_case_reviewer(state: State):\n",
    "    \"\"\"Reviews the generated test cases and verifies them against the provided source code.\"\"\"\n",
    "    \n",
    "    user_input = state.get('topic')\n",
    "    source_code = state.get('source_code')\n",
    "    test_cases = state.get('test_cases')    \n",
    "\n",
    "    reviewer = llm.with_structured_output(Reviewer)\n",
    "    \n",
    "    if user_input and source_code and test_cases:\n",
    "        response = reviewer.invoke([\n",
    "            SystemMessage(content=\"You are an expert in reviewing test cases for all programming languages. Review the given code, verify the test cases, and provide your approval along with detailed feedback.\"),\n",
    "            HumanMessage(content=f\"User Input:\\n{user_input}\\n\\nSource Code:\\n{source_code}\\n\\nTest Cases:\\n{test_cases}\")\n",
    "                  ])\n",
    "\n",
    "        return {\n",
    "               'test_case_review_status': response.status,\n",
    "               'feedback': response.feedback\n",
    "            }\n",
    "\n",
    "\n",
    "def manager(state:State):\n",
    "    '''Manager needts to provdie the approval for PROD deployment'''\n",
    "    while True:\n",
    "        choice=input(\"Enter your approval (Approved/Rejected + Feedback'):\")\n",
    "        if choice not in ['Approved','Rejected + Feedback']:\n",
    "            print('Inavlid value. pls select the correct value')\n",
    "            continue\n",
    "\n",
    "        feedback=None  \n",
    "        if choice=='Rejected + Feedback':\n",
    "            feedback=input(\"Enter your Feedback':\")\n",
    "\n",
    "\n",
    "        return {'manager_approval_status':choice,'feedback':feedback,'final_code_version':state.get('source_code'),'deployment_status':'LIVE'} if choice=='Approved' else {'manager_approval_status':choice,'feedback':feedback}  \n",
    "\n",
    "\n",
    "def reviewer_status(state:State):\n",
    "    return state.get('code_review_status')\n",
    "\n",
    "def test_case_reviewer_status(state:State):\n",
    "    return state.get('test_case_review_status')\n",
    "\n",
    "def manager_status(state:State):\n",
    "    return state.get('manager_approval_status')\n"
   ]
  },
  {
   "cell_type": "code",
   "execution_count": 5,
   "metadata": {},
   "outputs": [
    {
     "data": {
      "image/png": "[encoded data removed]",
      "text/plain": [
       "<IPython.core.display.Image object>"
      ]
     },
     "metadata": {},
     "output_type": "display_data"
    }
   ],
   "source": [
    "from langgraph.graph import StateGraph,START,END\n",
    "from IPython.display import Image,display\n",
    "from langgraph.checkpoint.memory import MemorySaver\n",
    "\n",
    "# Build the workflow\n",
    "workflow=StateGraph(State)\n",
    "\n",
    "# define the nodes\n",
    "workflow.add_node('Developer',code_writer)\n",
    "workflow.add_node('Code Reviewer',code_reviewer)\n",
    "workflow.add_node('Test Case Generator',test_case_generator)\n",
    "workflow.add_node('Test Case Reviewer',test_case_reviewer)\n",
    "workflow.add_node('Manager',manager)\n",
    "\n",
    "# define the edges\n",
    "workflow.add_edge(START,'Developer')\n",
    "workflow.add_edge('Developer','Code Reviewer')\n",
    "workflow.add_conditional_edges('Code Reviewer',reviewer_status,{'Approved':'Test Case Generator','Rejected + Feedback':'Developer'})\n",
    "workflow.add_edge('Test Case Generator','Test Case Reviewer')\n",
    "workflow.add_conditional_edges('Test Case Reviewer',test_case_reviewer_status,{'Approved':'Manager','Rejected + Feedback':'Developer'})\n",
    "workflow.add_conditional_edges('Manager',manager_status,{'Approved':END,'Rejected + Feedback':'Developer'})\n",
    "\n",
    "memory=MemorySaver()\n",
    "\n",
    "code_peer_review=workflow.compile(checkpointer=memory)\n",
    "\n",
    "#view\n",
    "display(Image(code_peer_review.get_graph().draw_mermaid_png()))\n"
   ]
  },
  {
   "cell_type": "code",
   "execution_count": 6,
   "metadata": {},
   "outputs": [],
   "source": [
    "config={'configurable':{'thread_id':'1'}}\n",
    "response=code_peer_review.invoke(input={'topic':'Write a PLSQL Code to call the concurrent program'},config=config)\n"
   ]
  },
  {
   "cell_type": "code",
   "execution_count": 7,
   "metadata": {},
   "outputs": [
    {
     "data": {
      "text/plain": [
       "{'topic': 'Write a PLSQL Code to call the concurrent program',\n",
       " 'source_code': \"```sql\\nDECLARE\\n  program_name VARCHAR2(30);  -- Replace with the actual concurrent program name\\nBEGIN\\n  \\n  program_name := 'YOUR_CONCURRENT_PROGRAM_NAME'; -- Replace with your program name\\n\\n  -- Call the concurrent program\\n  DBMS_SCHEDULER.RUN_PROGRAM(\\n    program_name => program_name,\\n    user_id => 'YOUR_USER_ID',  -- Replace with your user ID\\n    arguments => NULL --  Optional: pass arguments to the program\\n  );\\n\\n  DBMS_OUTPUT.PUT_LINE('Concurrent program ' || program_name || ' scheduled.');\\nEND;\\n/\\n```\\n\\n**Explanation:**\\n\\n1. **Declare Variables:**\\n   - `program_name`: Stores the name of the concurrent program you want to call. **Replace 'YOUR_CONCURRENT_PROGRAM_NAME' with the actual name of your program.**\\n   -  `user_id`:  Replace 'YOUR_USER_ID' with the user ID that has the necessary permissions to run the concurrent program. \\n\\n2. **Call `DBMS_SCHEDULER.RUN_PROGRAM`:**\\n   - This procedure allows you to execute concurrent programs.\\n   - `program_name`: Passes the name of the concurrent program.\\n   - `user_id`: Specifies the user who will run the program.\\n   - `arguments`: (Optional) Allows you to pass arguments to the concurrent program. If your program doesn't require arguments, set this to `NULL`.\\n\\n3. **Output Confirmation:**\\n   - The code uses `DBMS_OUTPUT.PUT_LINE` to display a confirmation message that the concurrent program has been scheduled.\\n\\n**Important Notes:**\\n\\n- **Permissions:** The user executing this code must have the necessary privileges to run concurrent programs.\\n- **Concurrent Program Setup:** Ensure that your concurrent program is properly defined and configured in Oracle Applications.\\n- **Arguments:** Consult your program's documentation to understand if and how to pass arguments.\\n\\n\\n\\nLet me know if you have any other questions or need help with a specific program!\\n\",\n",
       " 'code_review_status': 'Approved',\n",
       " 'test_cases': 'You\\'re asking for PL/SQL code to call a concurrent program.  That\\'s exactly what the code I provided does! \\n\\n**Here\\'s a breakdown of how to use it:**\\n\\n1. **Replace Placeholders:**\\n   * **`YOUR_CONCURRENT_PROGRAM_NAME`:**  Put the *exact* name of the concurrent program you want to run.  This is case-sensitive!\\n   * **`YOUR_USER_ID`:** Replace this with the Oracle user ID that has permission to execute this concurrent program.\\n\\n2. **Save the Code:** Save this code as a PL/SQL block (`.sql` file) in your Oracle database.\\n\\n3. **Execute:** Connect to your database using SQL*Plus or another tool and execute the code block:\\n   ```sql\\n   SQL> @your_code_file.sql \\n   ```\\n\\n**Example:**\\n\\nLet\\'s say your concurrent program is called \"MY_REPORT\" and you want to run it as the user \"SCOTT\":\\n\\n```sql\\nDECLARE\\n  program_name VARCHAR2(30);\\nBEGIN\\n  program_name := \\'MY_REPORT\\';\\n\\n  DBMS_SCHEDULER.RUN_PROGRAM(\\n    program_name => program_name,\\n    user_id => \\'SCOTT\\',\\n    arguments => NULL\\n  );\\n\\n  DBMS_OUTPUT.PUT_LINE(\\'Concurrent program \\' || program_name || \\' scheduled.\\');\\nEND;\\n/\\n```\\n\\n**Important Considerations:**\\n\\n* **Permissions:** The user executing this code must have the necessary privileges to schedule concurrent programs.\\n* **Concurrent Program Setup:**  Make sure your concurrent program \"MY_REPORT\" is correctly defined in your Oracle Applications environment.\\n* **Arguments:**  If your concurrent program requires arguments, replace `NULL` with the appropriate values. Refer to your program\\'s documentation for details.\\n\\n\\n\\nLet me know if you have any other questions or need help with a specific concurrency issue!\\n',\n",
       " 'test_case_review_status': 'Approved',\n",
       " 'manager_approval_status': 'Approved',\n",
       " 'feedback': None,\n",
       " 'final_code_version': \"```sql\\nDECLARE\\n  program_name VARCHAR2(30);  -- Replace with the actual concurrent program name\\nBEGIN\\n  \\n  program_name := 'YOUR_CONCURRENT_PROGRAM_NAME'; -- Replace with your program name\\n\\n  -- Call the concurrent program\\n  DBMS_SCHEDULER.RUN_PROGRAM(\\n    program_name => program_name,\\n    user_id => 'YOUR_USER_ID',  -- Replace with your user ID\\n    arguments => NULL --  Optional: pass arguments to the program\\n  );\\n\\n  DBMS_OUTPUT.PUT_LINE('Concurrent program ' || program_name || ' scheduled.');\\nEND;\\n/\\n```\\n\\n**Explanation:**\\n\\n1. **Declare Variables:**\\n   - `program_name`: Stores the name of the concurrent program you want to call. **Replace 'YOUR_CONCURRENT_PROGRAM_NAME' with the actual name of your program.**\\n   -  `user_id`:  Replace 'YOUR_USER_ID' with the user ID that has the necessary permissions to run the concurrent program. \\n\\n2. **Call `DBMS_SCHEDULER.RUN_PROGRAM`:**\\n   - This procedure allows you to execute concurrent programs.\\n   - `program_name`: Passes the name of the concurrent program.\\n   - `user_id`: Specifies the user who will run the program.\\n   - `arguments`: (Optional) Allows you to pass arguments to the concurrent program. If your program doesn't require arguments, set this to `NULL`.\\n\\n3. **Output Confirmation:**\\n   - The code uses `DBMS_OUTPUT.PUT_LINE` to display a confirmation message that the concurrent program has been scheduled.\\n\\n**Important Notes:**\\n\\n- **Permissions:** The user executing this code must have the necessary privileges to run concurrent programs.\\n- **Concurrent Program Setup:** Ensure that your concurrent program is properly defined and configured in Oracle Applications.\\n- **Arguments:** Consult your program's documentation to understand if and how to pass arguments.\\n\\n\\n\\nLet me know if you have any other questions or need help with a specific program!\\n\",\n",
       " 'deployment_status': 'LIVE'}"
      ]
     },
     "execution_count": 7,
     "metadata": {},
     "output_type": "execute_result"
    }
   ],
   "source": [
    "response"
   ]
  },
  {
   "cell_type": "code",
   "execution_count": 8,
   "metadata": {},
   "outputs": [
    {
     "data": {
      "text/markdown": [
       "```sql\n",
       "DECLARE\n",
       "  program_name VARCHAR2(30);  -- Replace with the actual concurrent program name\n",
       "BEGIN\n",
       "  \n",
       "  program_name := 'YOUR_CONCURRENT_PROGRAM_NAME'; -- Replace with your program name\n",
       "\n",
       "  -- Call the concurrent program\n",
       "  DBMS_SCHEDULER.RUN_PROGRAM(\n",
       "    program_name => program_name,\n",
       "    user_id => 'YOUR_USER_ID',  -- Replace with your user ID\n",
       "    arguments => NULL --  Optional: pass arguments to the program\n",
       "  );\n",
       "\n",
       "  DBMS_OUTPUT.PUT_LINE('Concurrent program ' || program_name || ' scheduled.');\n",
       "END;\n",
       "/\n",
       "```\n",
       "\n",
       "**Explanation:**\n",
       "\n",
       "1. **Declare Variables:**\n",
       "   - `program_name`: Stores the name of the concurrent program you want to call. **Replace 'YOUR_CONCURRENT_PROGRAM_NAME' with the actual name of your program.**\n",
       "   -  `user_id`:  Replace 'YOUR_USER_ID' with the user ID that has the necessary permissions to run the concurrent program. \n",
       "\n",
       "2. **Call `DBMS_SCHEDULER.RUN_PROGRAM`:**\n",
       "   - This procedure allows you to execute concurrent programs.\n",
       "   - `program_name`: Passes the name of the concurrent program.\n",
       "   - `user_id`: Specifies the user who will run the program.\n",
       "   - `arguments`: (Optional) Allows you to pass arguments to the concurrent program. If your program doesn't require arguments, set this to `NULL`.\n",
       "\n",
       "3. **Output Confirmation:**\n",
       "   - The code uses `DBMS_OUTPUT.PUT_LINE` to display a confirmation message that the concurrent program has been scheduled.\n",
       "\n",
       "**Important Notes:**\n",
       "\n",
       "- **Permissions:** The user executing this code must have the necessary privileges to run concurrent programs.\n",
       "- **Concurrent Program Setup:** Ensure that your concurrent program is properly defined and configured in Oracle Applications.\n",
       "- **Arguments:** Consult your program's documentation to understand if and how to pass arguments.\n",
       "\n",
       "\n",
       "\n",
       "Let me know if you have any other questions or need help with a specific program!\n"
      ],
      "text/plain": [
       "<IPython.core.display.Markdown object>"
      ]
     },
     "execution_count": 8,
     "metadata": {},
     "output_type": "execute_result"
    }
   ],
   "source": [
    "from IPython.display import Markdown\n",
    "Markdown(response['final_code_version'])"
   ]
  },
  {
   "cell_type": "code",
   "execution_count": null,
   "metadata": {},
   "outputs": [],
   "source": []
  },
  {
   "cell_type": "code",
   "execution_count": null,
   "metadata": {},
   "outputs": [],
   "source": []
  },
  {
   "cell_type": "code",
   "execution_count": null,
   "metadata": {},
   "outputs": [],
   "source": []
  },
  {
   "cell_type": "code",
   "execution_count": null,
   "metadata": {},
   "outputs": [],
   "source": []
  }
 ],
 "metadata": {
  "kernelspec": {
   "display_name": "Python 3",
   "language": "python",
   "name": "python3"
  },
  "language_info": {
   "codemirror_mode": {
    "name": "ipython",
    "version": 3
   },
   "file_extension": ".py",
   "mimetype": "text/x-python",
   "name": "python",
   "nbconvert_exporter": "python",
   "pygments_lexer": "ipython3",
   "version": "3.12.0"
  }
 },
 "nbformat": 4,
 "nbformat_minor": 2
}
